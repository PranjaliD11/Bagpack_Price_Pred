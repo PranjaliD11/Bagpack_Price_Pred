{
 "cells": [
  {
   "cell_type": "code",
   "execution_count": 1,
   "id": "abce4400",
   "metadata": {
    "_cell_guid": "b1076dfc-b9ad-4769-8c92-a6c4dae69d19",
    "_uuid": "8f2839f25d086af736a60e9eeb907d3b93b6e0e5",
    "execution": {
     "iopub.execute_input": "2025-02-21T02:14:59.604937Z",
     "iopub.status.busy": "2025-02-21T02:14:59.604412Z",
     "iopub.status.idle": "2025-02-21T02:15:00.878263Z",
     "shell.execute_reply": "2025-02-21T02:15:00.876894Z"
    },
    "papermill": {
     "duration": 1.287199,
     "end_time": "2025-02-21T02:15:00.880234",
     "exception": false,
     "start_time": "2025-02-21T02:14:59.593035",
     "status": "completed"
    },
    "tags": []
   },
   "outputs": [
    {
     "name": "stdout",
     "output_type": "stream",
     "text": [
      "/kaggle/input/playground-series-s5e2/sample_submission.csv\n",
      "/kaggle/input/playground-series-s5e2/train.csv\n",
      "/kaggle/input/playground-series-s5e2/test.csv\n",
      "/kaggle/input/playground-series-s5e2/training_extra.csv\n"
     ]
    }
   ],
   "source": [
    "# This Python 3 environment comes with many helpful analytics libraries installed\n",
    "# It is defined by the kaggle/python Docker image: https://github.com/kaggle/docker-python\n",
    "# For example, here's several helpful packages to load\n",
    "\n",
    "import numpy as np # linear algebra\n",
    "import pandas as pd # data processing, CSV file I/O (e.g. pd.read_csv)\n",
    "\n",
    "# Input data files are available in the read-only \"../input/\" directory\n",
    "# For example, running this (by clicking run or pressing Shift+Enter) will list all files under the input directory\n",
    "\n",
    "import os\n",
    "for dirname, _, filenames in os.walk('/kaggle/input'):\n",
    "    for filename in filenames:\n",
    "        print(os.path.join(dirname, filename))\n",
    "\n",
    "# You can write up to 20GB to the current directory (/kaggle/working/) that gets preserved as output when you create a version using \"Save & Run All\" \n",
    "# You can also write temporary files to /kaggle/temp/, but they won't be saved outside of the current session"
   ]
  },
  {
   "cell_type": "code",
   "execution_count": 2,
   "id": "159e9953",
   "metadata": {
    "execution": {
     "iopub.execute_input": "2025-02-21T02:15:00.900299Z",
     "iopub.status.busy": "2025-02-21T02:15:00.899721Z",
     "iopub.status.idle": "2025-02-21T02:15:03.233950Z",
     "shell.execute_reply": "2025-02-21T02:15:03.232656Z"
    },
    "papermill": {
     "duration": 2.346559,
     "end_time": "2025-02-21T02:15:03.236275",
     "exception": false,
     "start_time": "2025-02-21T02:15:00.889716",
     "status": "completed"
    },
    "tags": []
   },
   "outputs": [],
   "source": [
    "import seaborn as sns\n",
    "import matplotlib.pyplot as plt\n",
    "import warnings\n",
    "warnings.filterwarnings('ignore')"
   ]
  },
  {
   "cell_type": "markdown",
   "id": "9a07408a",
   "metadata": {
    "papermill": {
     "duration": 0.009555,
     "end_time": "2025-02-21T02:15:03.255854",
     "exception": false,
     "start_time": "2025-02-21T02:15:03.246299",
     "status": "completed"
    },
    "tags": []
   },
   "source": [
    "# Data Loading and Exploratory Data Analysis"
   ]
  },
  {
   "cell_type": "code",
   "execution_count": 3,
   "id": "ebd23b16",
   "metadata": {
    "execution": {
     "iopub.execute_input": "2025-02-21T02:15:03.276305Z",
     "iopub.status.busy": "2025-02-21T02:15:03.275735Z",
     "iopub.status.idle": "2025-02-21T02:15:13.796188Z",
     "shell.execute_reply": "2025-02-21T02:15:13.794965Z"
    },
    "papermill": {
     "duration": 10.533299,
     "end_time": "2025-02-21T02:15:13.798238",
     "exception": false,
     "start_time": "2025-02-21T02:15:03.264939",
     "status": "completed"
    },
    "tags": []
   },
   "outputs": [],
   "source": [
    "train=pd.read_csv('/kaggle/input/playground-series-s5e2/train.csv')\n",
    "train_2=pd.read_csv('/kaggle/input/playground-series-s5e2/training_extra.csv')\n",
    "test=pd.read_csv('/kaggle/input/playground-series-s5e2/test.csv')\n",
    "submissions=pd.read_csv('/kaggle/input/playground-series-s5e2/sample_submission.csv')"
   ]
  },
  {
   "cell_type": "code",
   "execution_count": 4,
   "id": "e840abdb",
   "metadata": {
    "execution": {
     "iopub.execute_input": "2025-02-21T02:15:13.817391Z",
     "iopub.status.busy": "2025-02-21T02:15:13.817038Z",
     "iopub.status.idle": "2025-02-21T02:15:13.849127Z",
     "shell.execute_reply": "2025-02-21T02:15:13.847928Z"
    },
    "papermill": {
     "duration": 0.043817,
     "end_time": "2025-02-21T02:15:13.851081",
     "exception": false,
     "start_time": "2025-02-21T02:15:13.807264",
     "status": "completed"
    },
    "tags": []
   },
   "outputs": [
    {
     "data": {
      "text/html": [
       "<div>\n",
       "<style scoped>\n",
       "    .dataframe tbody tr th:only-of-type {\n",
       "        vertical-align: middle;\n",
       "    }\n",
       "\n",
       "    .dataframe tbody tr th {\n",
       "        vertical-align: top;\n",
       "    }\n",
       "\n",
       "    .dataframe thead th {\n",
       "        text-align: right;\n",
       "    }\n",
       "</style>\n",
       "<table border=\"1\" class=\"dataframe\">\n",
       "  <thead>\n",
       "    <tr style=\"text-align: right;\">\n",
       "      <th></th>\n",
       "      <th>id</th>\n",
       "      <th>Brand</th>\n",
       "      <th>Material</th>\n",
       "      <th>Size</th>\n",
       "      <th>Compartments</th>\n",
       "      <th>Laptop Compartment</th>\n",
       "      <th>Waterproof</th>\n",
       "      <th>Style</th>\n",
       "      <th>Color</th>\n",
       "      <th>Weight Capacity (kg)</th>\n",
       "      <th>Price</th>\n",
       "    </tr>\n",
       "  </thead>\n",
       "  <tbody>\n",
       "    <tr>\n",
       "      <th>0</th>\n",
       "      <td>0</td>\n",
       "      <td>Jansport</td>\n",
       "      <td>Leather</td>\n",
       "      <td>Medium</td>\n",
       "      <td>7.0</td>\n",
       "      <td>Yes</td>\n",
       "      <td>No</td>\n",
       "      <td>Tote</td>\n",
       "      <td>Black</td>\n",
       "      <td>11.611723</td>\n",
       "      <td>112.15875</td>\n",
       "    </tr>\n",
       "    <tr>\n",
       "      <th>1</th>\n",
       "      <td>1</td>\n",
       "      <td>Jansport</td>\n",
       "      <td>Canvas</td>\n",
       "      <td>Small</td>\n",
       "      <td>10.0</td>\n",
       "      <td>Yes</td>\n",
       "      <td>Yes</td>\n",
       "      <td>Messenger</td>\n",
       "      <td>Green</td>\n",
       "      <td>27.078537</td>\n",
       "      <td>68.88056</td>\n",
       "    </tr>\n",
       "    <tr>\n",
       "      <th>2</th>\n",
       "      <td>2</td>\n",
       "      <td>Under Armour</td>\n",
       "      <td>Leather</td>\n",
       "      <td>Small</td>\n",
       "      <td>2.0</td>\n",
       "      <td>Yes</td>\n",
       "      <td>No</td>\n",
       "      <td>Messenger</td>\n",
       "      <td>Red</td>\n",
       "      <td>16.643760</td>\n",
       "      <td>39.17320</td>\n",
       "    </tr>\n",
       "    <tr>\n",
       "      <th>3</th>\n",
       "      <td>3</td>\n",
       "      <td>Nike</td>\n",
       "      <td>Nylon</td>\n",
       "      <td>Small</td>\n",
       "      <td>8.0</td>\n",
       "      <td>Yes</td>\n",
       "      <td>No</td>\n",
       "      <td>Messenger</td>\n",
       "      <td>Green</td>\n",
       "      <td>12.937220</td>\n",
       "      <td>80.60793</td>\n",
       "    </tr>\n",
       "    <tr>\n",
       "      <th>4</th>\n",
       "      <td>4</td>\n",
       "      <td>Adidas</td>\n",
       "      <td>Canvas</td>\n",
       "      <td>Medium</td>\n",
       "      <td>1.0</td>\n",
       "      <td>Yes</td>\n",
       "      <td>Yes</td>\n",
       "      <td>Messenger</td>\n",
       "      <td>Green</td>\n",
       "      <td>17.749338</td>\n",
       "      <td>86.02312</td>\n",
       "    </tr>\n",
       "  </tbody>\n",
       "</table>\n",
       "</div>"
      ],
      "text/plain": [
       "   id         Brand Material    Size  Compartments Laptop Compartment  \\\n",
       "0   0      Jansport  Leather  Medium           7.0                Yes   \n",
       "1   1      Jansport   Canvas   Small          10.0                Yes   \n",
       "2   2  Under Armour  Leather   Small           2.0                Yes   \n",
       "3   3          Nike    Nylon   Small           8.0                Yes   \n",
       "4   4        Adidas   Canvas  Medium           1.0                Yes   \n",
       "\n",
       "  Waterproof      Style  Color  Weight Capacity (kg)      Price  \n",
       "0         No       Tote  Black             11.611723  112.15875  \n",
       "1        Yes  Messenger  Green             27.078537   68.88056  \n",
       "2         No  Messenger    Red             16.643760   39.17320  \n",
       "3         No  Messenger  Green             12.937220   80.60793  \n",
       "4        Yes  Messenger  Green             17.749338   86.02312  "
      ]
     },
     "execution_count": 4,
     "metadata": {},
     "output_type": "execute_result"
    }
   ],
   "source": [
    "train.head()"
   ]
  },
  {
   "cell_type": "code",
   "execution_count": 5,
   "id": "8f577b81",
   "metadata": {
    "execution": {
     "iopub.execute_input": "2025-02-21T02:15:13.871457Z",
     "iopub.status.busy": "2025-02-21T02:15:13.871132Z",
     "iopub.status.idle": "2025-02-21T02:15:13.886108Z",
     "shell.execute_reply": "2025-02-21T02:15:13.884789Z"
    },
    "papermill": {
     "duration": 0.027558,
     "end_time": "2025-02-21T02:15:13.887986",
     "exception": false,
     "start_time": "2025-02-21T02:15:13.860428",
     "status": "completed"
    },
    "tags": []
   },
   "outputs": [
    {
     "data": {
      "text/html": [
       "<div>\n",
       "<style scoped>\n",
       "    .dataframe tbody tr th:only-of-type {\n",
       "        vertical-align: middle;\n",
       "    }\n",
       "\n",
       "    .dataframe tbody tr th {\n",
       "        vertical-align: top;\n",
       "    }\n",
       "\n",
       "    .dataframe thead th {\n",
       "        text-align: right;\n",
       "    }\n",
       "</style>\n",
       "<table border=\"1\" class=\"dataframe\">\n",
       "  <thead>\n",
       "    <tr style=\"text-align: right;\">\n",
       "      <th></th>\n",
       "      <th>id</th>\n",
       "      <th>Brand</th>\n",
       "      <th>Material</th>\n",
       "      <th>Size</th>\n",
       "      <th>Compartments</th>\n",
       "      <th>Laptop Compartment</th>\n",
       "      <th>Waterproof</th>\n",
       "      <th>Style</th>\n",
       "      <th>Color</th>\n",
       "      <th>Weight Capacity (kg)</th>\n",
       "      <th>Price</th>\n",
       "    </tr>\n",
       "  </thead>\n",
       "  <tbody>\n",
       "    <tr>\n",
       "      <th>0</th>\n",
       "      <td>500000</td>\n",
       "      <td>Under Armour</td>\n",
       "      <td>Canvas</td>\n",
       "      <td>Small</td>\n",
       "      <td>10.0</td>\n",
       "      <td>Yes</td>\n",
       "      <td>Yes</td>\n",
       "      <td>Tote</td>\n",
       "      <td>Blue</td>\n",
       "      <td>23.882052</td>\n",
       "      <td>114.11068</td>\n",
       "    </tr>\n",
       "    <tr>\n",
       "      <th>1</th>\n",
       "      <td>500001</td>\n",
       "      <td>Puma</td>\n",
       "      <td>Polyester</td>\n",
       "      <td>Small</td>\n",
       "      <td>4.0</td>\n",
       "      <td>No</td>\n",
       "      <td>Yes</td>\n",
       "      <td>Backpack</td>\n",
       "      <td>Green</td>\n",
       "      <td>11.869095</td>\n",
       "      <td>129.74972</td>\n",
       "    </tr>\n",
       "    <tr>\n",
       "      <th>2</th>\n",
       "      <td>500002</td>\n",
       "      <td>Jansport</td>\n",
       "      <td>Polyester</td>\n",
       "      <td>Small</td>\n",
       "      <td>8.0</td>\n",
       "      <td>Yes</td>\n",
       "      <td>Yes</td>\n",
       "      <td>Tote</td>\n",
       "      <td>Red</td>\n",
       "      <td>8.092302</td>\n",
       "      <td>21.37370</td>\n",
       "    </tr>\n",
       "    <tr>\n",
       "      <th>3</th>\n",
       "      <td>500003</td>\n",
       "      <td>Nike</td>\n",
       "      <td>Nylon</td>\n",
       "      <td>Large</td>\n",
       "      <td>7.0</td>\n",
       "      <td>No</td>\n",
       "      <td>No</td>\n",
       "      <td>Messenger</td>\n",
       "      <td>Pink</td>\n",
       "      <td>7.719581</td>\n",
       "      <td>48.09209</td>\n",
       "    </tr>\n",
       "    <tr>\n",
       "      <th>4</th>\n",
       "      <td>500004</td>\n",
       "      <td>Nike</td>\n",
       "      <td>Leather</td>\n",
       "      <td>Large</td>\n",
       "      <td>9.0</td>\n",
       "      <td>No</td>\n",
       "      <td>Yes</td>\n",
       "      <td>Tote</td>\n",
       "      <td>Green</td>\n",
       "      <td>22.741826</td>\n",
       "      <td>77.32461</td>\n",
       "    </tr>\n",
       "  </tbody>\n",
       "</table>\n",
       "</div>"
      ],
      "text/plain": [
       "       id         Brand   Material   Size  Compartments Laptop Compartment  \\\n",
       "0  500000  Under Armour     Canvas  Small          10.0                Yes   \n",
       "1  500001          Puma  Polyester  Small           4.0                 No   \n",
       "2  500002      Jansport  Polyester  Small           8.0                Yes   \n",
       "3  500003          Nike      Nylon  Large           7.0                 No   \n",
       "4  500004          Nike    Leather  Large           9.0                 No   \n",
       "\n",
       "  Waterproof      Style  Color  Weight Capacity (kg)      Price  \n",
       "0        Yes       Tote   Blue             23.882052  114.11068  \n",
       "1        Yes   Backpack  Green             11.869095  129.74972  \n",
       "2        Yes       Tote    Red              8.092302   21.37370  \n",
       "3         No  Messenger   Pink              7.719581   48.09209  \n",
       "4        Yes       Tote  Green             22.741826   77.32461  "
      ]
     },
     "execution_count": 5,
     "metadata": {},
     "output_type": "execute_result"
    }
   ],
   "source": [
    "train_2.head()"
   ]
  },
  {
   "cell_type": "code",
   "execution_count": 6,
   "id": "3ae0a531",
   "metadata": {
    "execution": {
     "iopub.execute_input": "2025-02-21T02:15:13.908212Z",
     "iopub.status.busy": "2025-02-21T02:15:13.907843Z",
     "iopub.status.idle": "2025-02-21T02:15:13.913526Z",
     "shell.execute_reply": "2025-02-21T02:15:13.911991Z"
    },
    "papermill": {
     "duration": 0.017907,
     "end_time": "2025-02-21T02:15:13.915339",
     "exception": false,
     "start_time": "2025-02-21T02:15:13.897432",
     "status": "completed"
    },
    "tags": []
   },
   "outputs": [
    {
     "name": "stdout",
     "output_type": "stream",
     "text": [
      "(3694318, 11)\n",
      "(300000, 11)\n"
     ]
    }
   ],
   "source": [
    "print(train_2.shape)\n",
    "print(train.shape)"
   ]
  },
  {
   "cell_type": "code",
   "execution_count": 7,
   "id": "3b3cc621",
   "metadata": {
    "execution": {
     "iopub.execute_input": "2025-02-21T02:15:13.935857Z",
     "iopub.status.busy": "2025-02-21T02:15:13.935414Z",
     "iopub.status.idle": "2025-02-21T02:15:14.379973Z",
     "shell.execute_reply": "2025-02-21T02:15:14.378889Z"
    },
    "papermill": {
     "duration": 0.456709,
     "end_time": "2025-02-21T02:15:14.381683",
     "exception": false,
     "start_time": "2025-02-21T02:15:13.924974",
     "status": "completed"
    },
    "tags": []
   },
   "outputs": [
    {
     "data": {
      "text/plain": [
       "Text(0.5, 1.0, 'Distribution of price')"
      ]
     },
     "execution_count": 7,
     "metadata": {},
     "output_type": "execute_result"
    },
    {
     "data": {
      "image/png": "[encoded data removed]",
      "text/plain": [
       "<Figure size 640x480 with 1 Axes>"
      ]
     },
     "metadata": {},
     "output_type": "display_data"
    }
   ],
   "source": [
    "plt.hist(x=train_2['Price'])\n",
    "plt.title('Distribution of price')"
   ]
  },
  {
   "cell_type": "code",
   "execution_count": 8,
   "id": "b4a9f00a",
   "metadata": {
    "execution": {
     "iopub.execute_input": "2025-02-21T02:15:14.403504Z",
     "iopub.status.busy": "2025-02-21T02:15:14.403150Z",
     "iopub.status.idle": "2025-02-21T02:15:15.686791Z",
     "shell.execute_reply": "2025-02-21T02:15:15.685723Z"
    },
    "papermill": {
     "duration": 1.296512,
     "end_time": "2025-02-21T02:15:15.688684",
     "exception": false,
     "start_time": "2025-02-21T02:15:14.392172",
     "status": "completed"
    },
    "tags": []
   },
   "outputs": [
    {
     "data": {
      "text/plain": [
       "id                           0\n",
       "Brand                   117053\n",
       "Material                102615\n",
       "Size                     81190\n",
       "Compartments                 0\n",
       "Laptop Compartment       91089\n",
       "Waterproof               87274\n",
       "Style                    96210\n",
       "Color                   123667\n",
       "Weight Capacity (kg)      1670\n",
       "Price                        0\n",
       "dtype: int64"
      ]
     },
     "execution_count": 8,
     "metadata": {},
     "output_type": "execute_result"
    }
   ],
   "source": [
    "train_2.isnull().sum()"
   ]
  },
  {
   "cell_type": "code",
   "execution_count": 9,
   "id": "2c570355",
   "metadata": {
    "execution": {
     "iopub.execute_input": "2025-02-21T02:15:15.710606Z",
     "iopub.status.busy": "2025-02-21T02:15:15.710237Z",
     "iopub.status.idle": "2025-02-21T02:15:15.955277Z",
     "shell.execute_reply": "2025-02-21T02:15:15.954138Z"
    },
    "papermill": {
     "duration": 0.258246,
     "end_time": "2025-02-21T02:15:15.957180",
     "exception": false,
     "start_time": "2025-02-21T02:15:15.698934",
     "status": "completed"
    },
    "tags": []
   },
   "outputs": [
    {
     "data": {
      "text/plain": [
       "Text(0.5, 1.0, 'Distribution of price')"
      ]
     },
     "execution_count": 9,
     "metadata": {},
     "output_type": "execute_result"
    },
    {
     "data": {
      "image/png": "[encoded data removed]",
      "text/plain": [
       "<Figure size 640x480 with 1 Axes>"
      ]
     },
     "metadata": {},
     "output_type": "display_data"
    }
   ],
   "source": [
    "plt.hist(x=train['Price'])\n",
    "plt.title('Distribution of price')"
   ]
  },
  {
   "cell_type": "code",
   "execution_count": 10,
   "id": "6bffb947",
   "metadata": {
    "execution": {
     "iopub.execute_input": "2025-02-21T02:15:15.979666Z",
     "iopub.status.busy": "2025-02-21T02:15:15.979219Z",
     "iopub.status.idle": "2025-02-21T02:15:16.108931Z",
     "shell.execute_reply": "2025-02-21T02:15:16.107798Z"
    },
    "papermill": {
     "duration": 0.143133,
     "end_time": "2025-02-21T02:15:16.110968",
     "exception": false,
     "start_time": "2025-02-21T02:15:15.967835",
     "status": "completed"
    },
    "tags": []
   },
   "outputs": [
    {
     "name": "stdout",
     "output_type": "stream",
     "text": [
      "<class 'pandas.core.frame.DataFrame'>\n",
      "RangeIndex: 300000 entries, 0 to 299999\n",
      "Data columns (total 11 columns):\n",
      " #   Column                Non-Null Count   Dtype  \n",
      "---  ------                --------------   -----  \n",
      " 0   id                    300000 non-null  int64  \n",
      " 1   Brand                 290295 non-null  object \n",
      " 2   Material              291653 non-null  object \n",
      " 3   Size                  293405 non-null  object \n",
      " 4   Compartments          300000 non-null  float64\n",
      " 5   Laptop Compartment    292556 non-null  object \n",
      " 6   Waterproof            292950 non-null  object \n",
      " 7   Style                 292030 non-null  object \n",
      " 8   Color                 290050 non-null  object \n",
      " 9   Weight Capacity (kg)  299862 non-null  float64\n",
      " 10  Price                 300000 non-null  float64\n",
      "dtypes: float64(3), int64(1), object(7)\n",
      "memory usage: 25.2+ MB\n"
     ]
    }
   ],
   "source": [
    "train.info()"
   ]
  },
  {
   "cell_type": "markdown",
   "id": "d31ceb1b",
   "metadata": {
    "papermill": {
     "duration": 0.010988,
     "end_time": "2025-02-21T02:15:16.132743",
     "exception": false,
     "start_time": "2025-02-21T02:15:16.121755",
     "status": "completed"
    },
    "tags": []
   },
   "source": [
    "# Feature Engineering"
   ]
  },
  {
   "cell_type": "markdown",
   "id": "f6a6de08",
   "metadata": {
    "papermill": {
     "duration": 0.01049,
     "end_time": "2025-02-21T02:15:16.153982",
     "exception": false,
     "start_time": "2025-02-21T02:15:16.143492",
     "status": "completed"
    },
    "tags": []
   },
   "source": [
    "## Missing Values"
   ]
  },
  {
   "cell_type": "code",
   "execution_count": 11,
   "id": "f1a94346",
   "metadata": {
    "execution": {
     "iopub.execute_input": "2025-02-21T02:15:16.178893Z",
     "iopub.status.busy": "2025-02-21T02:15:16.178428Z",
     "iopub.status.idle": "2025-02-21T02:15:16.292347Z",
     "shell.execute_reply": "2025-02-21T02:15:16.291086Z"
    },
    "papermill": {
     "duration": 0.129078,
     "end_time": "2025-02-21T02:15:16.294226",
     "exception": false,
     "start_time": "2025-02-21T02:15:16.165148",
     "status": "completed"
    },
    "tags": []
   },
   "outputs": [
    {
     "data": {
      "text/plain": [
       "id                         0\n",
       "Brand                   9705\n",
       "Material                8347\n",
       "Size                    6595\n",
       "Compartments               0\n",
       "Laptop Compartment      7444\n",
       "Waterproof              7050\n",
       "Style                   7970\n",
       "Color                   9950\n",
       "Weight Capacity (kg)     138\n",
       "Price                      0\n",
       "dtype: int64"
      ]
     },
     "execution_count": 11,
     "metadata": {},
     "output_type": "execute_result"
    }
   ],
   "source": [
    "train.isnull().sum()"
   ]
  },
  {
   "cell_type": "markdown",
   "id": "73c68fb1",
   "metadata": {
    "papermill": {
     "duration": 0.011105,
     "end_time": "2025-02-21T02:15:16.316743",
     "exception": false,
     "start_time": "2025-02-21T02:15:16.305638",
     "status": "completed"
    },
    "tags": []
   },
   "source": [
    "We can oberseve that all columns except compartments and price have null values"
   ]
  },
  {
   "cell_type": "code",
   "execution_count": 12,
   "id": "80eee955",
   "metadata": {
    "execution": {
     "iopub.execute_input": "2025-02-21T02:15:16.340851Z",
     "iopub.status.busy": "2025-02-21T02:15:16.340412Z",
     "iopub.status.idle": "2025-02-21T02:15:16.451965Z",
     "shell.execute_reply": "2025-02-21T02:15:16.450881Z"
    },
    "papermill": {
     "duration": 0.1253,
     "end_time": "2025-02-21T02:15:16.453838",
     "exception": false,
     "start_time": "2025-02-21T02:15:16.328538",
     "status": "completed"
    },
    "tags": []
   },
   "outputs": [
    {
     "data": {
      "text/plain": [
       "['Brand',\n",
       " 'Material',\n",
       " 'Size',\n",
       " 'Laptop Compartment',\n",
       " 'Waterproof',\n",
       " 'Style',\n",
       " 'Color',\n",
       " 'Weight Capacity (kg)']"
      ]
     },
     "execution_count": 12,
     "metadata": {},
     "output_type": "execute_result"
    }
   ],
   "source": [
    "features_with_na=[feature for feature in train.columns if train[feature].isnull().sum()>1]\n",
    "features_with_na"
   ]
  },
  {
   "cell_type": "code",
   "execution_count": 13,
   "id": "97044f29",
   "metadata": {
    "execution": {
     "iopub.execute_input": "2025-02-21T02:15:16.477074Z",
     "iopub.status.busy": "2025-02-21T02:15:16.476716Z",
     "iopub.status.idle": "2025-02-21T02:15:18.428507Z",
     "shell.execute_reply": "2025-02-21T02:15:18.427486Z"
    },
    "papermill": {
     "duration": 1.965563,
     "end_time": "2025-02-21T02:15:18.430356",
     "exception": false,
     "start_time": "2025-02-21T02:15:16.464793",
     "status": "completed"
    },
    "tags": []
   },
   "outputs": [
    {
     "data": {
      "image/png": "[encoded data removed]",
      "text/plain": [
       "<Figure size 1500x1500 with 8 Axes>"
      ]
     },
     "metadata": {},
     "output_type": "display_data"
    }
   ],
   "source": [
    "#identifying impact of features with null values on our dependent variable \n",
    "rows=int(np.ceil(len(features_with_na)/3))\n",
    "col=3\n",
    "#creating figure and set size\n",
    "fig, axes=plt.subplots(rows,col,figsize=(15, rows*5))\n",
    "axes=axes.flatten()\n",
    "\n",
    "#looping throught features and creating suplots\n",
    "for idx, feature in enumerate(features_with_na):\n",
    "    data=train.copy()\n",
    "    data[feature]=np.where(data[feature].isnull(),1,0)\n",
    "    #plot on current subplot\n",
    "    data.groupby(feature)['Price'].median().plot.bar(ax=axes[idx],color=['lightblue','orange'])\n",
    "    axes[idx].set_title(feature)\n",
    "    axes[idx].set_xlabel('') \n",
    "#hides any unused subplots\n",
    "for idx in range(len(features_with_na), len(axes)):\n",
    "    fig.delaxes(axes[idx])\n",
    "plt.tight_layout()\n",
    "plt.show()"
   ]
  },
  {
   "cell_type": "markdown",
   "id": "b60cdbe4",
   "metadata": {
    "papermill": {
     "duration": 0.01213,
     "end_time": "2025-02-21T02:15:18.454679",
     "exception": false,
     "start_time": "2025-02-21T02:15:18.442549",
     "status": "completed"
    },
    "tags": []
   },
   "source": [
    "Our null values are in orange and we can observe that they have significant impact on our dependent variable i.e price"
   ]
  },
  {
   "cell_type": "code",
   "execution_count": 14,
   "id": "4ef1dcf0",
   "metadata": {
    "execution": {
     "iopub.execute_input": "2025-02-21T02:15:18.479720Z",
     "iopub.status.busy": "2025-02-21T02:15:18.479333Z",
     "iopub.status.idle": "2025-02-21T02:15:18.485517Z",
     "shell.execute_reply": "2025-02-21T02:15:18.484324Z"
    },
    "papermill": {
     "duration": 0.020816,
     "end_time": "2025-02-21T02:15:18.487378",
     "exception": false,
     "start_time": "2025-02-21T02:15:18.466562",
     "status": "completed"
    },
    "tags": []
   },
   "outputs": [
    {
     "name": "stdout",
     "output_type": "stream",
     "text": [
      "Numerical Features of data are : ['id', 'Compartments', 'Weight Capacity (kg)', 'Price']\n"
     ]
    }
   ],
   "source": [
    "numerical_features=[feature for feature in train.columns if train[feature].dtype!='O']\n",
    "print('Numerical Features of data are :',numerical_features)"
   ]
  },
  {
   "cell_type": "markdown",
   "id": "f63157c2",
   "metadata": {
    "papermill": {
     "duration": 0.011902,
     "end_time": "2025-02-21T02:15:18.512037",
     "exception": false,
     "start_time": "2025-02-21T02:15:18.500135",
     "status": "completed"
    },
    "tags": []
   },
   "source": [
    "In train dataset weight is the numerical feature with missing values"
   ]
  },
  {
   "cell_type": "code",
   "execution_count": 15,
   "id": "8197f3fc",
   "metadata": {
    "execution": {
     "iopub.execute_input": "2025-02-21T02:15:18.538707Z",
     "iopub.status.busy": "2025-02-21T02:15:18.538324Z",
     "iopub.status.idle": "2025-02-21T02:15:20.552314Z",
     "shell.execute_reply": "2025-02-21T02:15:20.551157Z"
    },
    "papermill": {
     "duration": 2.028854,
     "end_time": "2025-02-21T02:15:20.554137",
     "exception": false,
     "start_time": "2025-02-21T02:15:18.525283",
     "status": "completed"
    },
    "tags": []
   },
   "outputs": [
    {
     "data": {
      "text/plain": [
       "Text(0.5, 1.0, 'Average weights of bagpack based on brands')"
      ]
     },
     "execution_count": 15,
     "metadata": {},
     "output_type": "execute_result"
    },
    {
     "data": {
      "image/png": "[encoded data removed]",
      "text/plain": [
       "<Figure size 640x480 with 1 Axes>"
      ]
     },
     "metadata": {},
     "output_type": "display_data"
    }
   ],
   "source": [
    "sns.boxplot(x='Weight Capacity (kg)', y='Brand',data=train_2)\n",
    "plt.title('Average weights of bagpack based on brands')"
   ]
  },
  {
   "cell_type": "markdown",
   "id": "b0f23cdb",
   "metadata": {
    "papermill": {
     "duration": 0.012458,
     "end_time": "2025-02-21T02:15:20.579720",
     "exception": false,
     "start_time": "2025-02-21T02:15:20.567262",
     "status": "completed"
    },
    "tags": []
   },
   "source": [
    "We can observe average weight of bags from all brands are same, along wiht no outliers so we can fill in mean/average values in missing values for weight capacity"
   ]
  },
  {
   "cell_type": "code",
   "execution_count": 16,
   "id": "42e2a550",
   "metadata": {
    "execution": {
     "iopub.execute_input": "2025-02-21T02:15:20.606924Z",
     "iopub.status.busy": "2025-02-21T02:15:20.606461Z",
     "iopub.status.idle": "2025-02-21T02:15:20.706214Z",
     "shell.execute_reply": "2025-02-21T02:15:20.704919Z"
    },
    "papermill": {
     "duration": 0.115549,
     "end_time": "2025-02-21T02:15:20.708328",
     "exception": false,
     "start_time": "2025-02-21T02:15:20.592779",
     "status": "completed"
    },
    "tags": []
   },
   "outputs": [],
   "source": [
    "train['Weight Capacity (kg)']=train['Weight Capacity (kg)'].fillna(train['Weight Capacity (kg)'].median())\n",
    "train_2['Weight Capacity (kg)']=train_2['Weight Capacity (kg)'].fillna(train_2['Weight Capacity (kg)'].median())"
   ]
  },
  {
   "cell_type": "code",
   "execution_count": 17,
   "id": "d28fac30",
   "metadata": {
    "execution": {
     "iopub.execute_input": "2025-02-21T02:15:20.735523Z",
     "iopub.status.busy": "2025-02-21T02:15:20.735132Z",
     "iopub.status.idle": "2025-02-21T02:15:20.742185Z",
     "shell.execute_reply": "2025-02-21T02:15:20.740951Z"
    },
    "papermill": {
     "duration": 0.022879,
     "end_time": "2025-02-21T02:15:20.744241",
     "exception": false,
     "start_time": "2025-02-21T02:15:20.721362",
     "status": "completed"
    },
    "tags": []
   },
   "outputs": [
    {
     "data": {
      "text/plain": [
       "['Brand',\n",
       " 'Material',\n",
       " 'Size',\n",
       " 'Laptop Compartment',\n",
       " 'Waterproof',\n",
       " 'Style',\n",
       " 'Color']"
      ]
     },
     "execution_count": 17,
     "metadata": {},
     "output_type": "execute_result"
    }
   ],
   "source": [
    "categorical_features=[feature for feature in train.columns if train[feature].dtype=='O']\n",
    "categorical_features"
   ]
  },
  {
   "cell_type": "markdown",
   "id": "a94f9af0",
   "metadata": {
    "papermill": {
     "duration": 0.013162,
     "end_time": "2025-02-21T02:15:20.770476",
     "exception": false,
     "start_time": "2025-02-21T02:15:20.757314",
     "status": "completed"
    },
    "tags": []
   },
   "source": [
    "Merged both the given dataset "
   ]
  },
  {
   "cell_type": "code",
   "execution_count": 18,
   "id": "096e6831",
   "metadata": {
    "execution": {
     "iopub.execute_input": "2025-02-21T02:15:20.800010Z",
     "iopub.status.busy": "2025-02-21T02:15:20.799642Z",
     "iopub.status.idle": "2025-02-21T02:15:21.299202Z",
     "shell.execute_reply": "2025-02-21T02:15:21.297940Z"
    },
    "papermill": {
     "duration": 0.51722,
     "end_time": "2025-02-21T02:15:21.301431",
     "exception": false,
     "start_time": "2025-02-21T02:15:20.784211",
     "status": "completed"
    },
    "tags": []
   },
   "outputs": [],
   "source": [
    "train_len=len(train)\n",
    "train_merge=pd.concat([train,train_2],axis=0,ignore_index=False)"
   ]
  },
  {
   "cell_type": "code",
   "execution_count": 19,
   "id": "9e71e8b5",
   "metadata": {
    "execution": {
     "iopub.execute_input": "2025-02-21T02:15:21.333548Z",
     "iopub.status.busy": "2025-02-21T02:15:21.333166Z",
     "iopub.status.idle": "2025-02-21T02:15:22.798614Z",
     "shell.execute_reply": "2025-02-21T02:15:22.797426Z"
    },
    "papermill": {
     "duration": 1.485883,
     "end_time": "2025-02-21T02:15:22.800894",
     "exception": false,
     "start_time": "2025-02-21T02:15:21.315011",
     "status": "completed"
    },
    "tags": []
   },
   "outputs": [
    {
     "data": {
      "text/plain": [
       "id                           0\n",
       "Brand                   126758\n",
       "Material                110962\n",
       "Size                     87785\n",
       "Compartments                 0\n",
       "Laptop Compartment       98533\n",
       "Waterproof               94324\n",
       "Style                   104180\n",
       "Color                   133617\n",
       "Weight Capacity (kg)         0\n",
       "Price                        0\n",
       "dtype: int64"
      ]
     },
     "execution_count": 19,
     "metadata": {},
     "output_type": "execute_result"
    }
   ],
   "source": [
    "train_merge.isnull().sum()"
   ]
  },
  {
   "cell_type": "markdown",
   "id": "307c8ac1",
   "metadata": {
    "papermill": {
     "duration": 0.01432,
     "end_time": "2025-02-21T02:15:22.828815",
     "exception": false,
     "start_time": "2025-02-21T02:15:22.814495",
     "status": "completed"
    },
    "tags": []
   },
   "source": [
    "Dealing with missing categorical values"
   ]
  },
  {
   "cell_type": "code",
   "execution_count": 20,
   "id": "b722e3f6",
   "metadata": {
    "execution": {
     "iopub.execute_input": "2025-02-21T02:15:22.860175Z",
     "iopub.status.busy": "2025-02-21T02:15:22.859816Z",
     "iopub.status.idle": "2025-02-21T02:15:49.877620Z",
     "shell.execute_reply": "2025-02-21T02:15:49.876334Z"
    },
    "papermill": {
     "duration": 27.036656,
     "end_time": "2025-02-21T02:15:49.880395",
     "exception": false,
     "start_time": "2025-02-21T02:15:22.843739",
     "status": "completed"
    },
    "tags": []
   },
   "outputs": [
    {
     "data": {
      "image/png": "[encoded data removed]",
      "text/plain": [
       "<Figure size 1500x1500 with 7 Axes>"
      ]
     },
     "metadata": {},
     "output_type": "display_data"
    }
   ],
   "source": [
    "rows = int(np.ceil(len(categorical_features) / 3))  # Ensure it aligns with categorical_features\n",
    "col = 3\n",
    "\n",
    "# Creating figure and setting size\n",
    "fig, axes = plt.subplots(rows, col, figsize=(15, rows * 5))\n",
    "axes = axes.flatten()\n",
    "\n",
    "# Looping through features and creating subplots\n",
    "for idx, feature in enumerate(categorical_features):\n",
    "    data = train_merge.copy()\n",
    "    \n",
    "    # Plot on current subplot\n",
    "    sns.countplot(x=feature, data=data, ax=axes[idx])\n",
    "    axes[idx].set_title(feature)\n",
    "    axes[idx].set_xlabel('')\n",
    "\n",
    "# Hide any unused subplots\n",
    "for idx in range(len(categorical_features), len(axes)):  # Aligning with categorical_features\n",
    "    fig.delaxes(axes[idx])\n",
    "\n",
    "plt.tight_layout()\n",
    "plt.show()"
   ]
  },
  {
   "cell_type": "markdown",
   "id": "667b299a",
   "metadata": {
    "papermill": {
     "duration": 0.015588,
     "end_time": "2025-02-21T02:15:49.911756",
     "exception": false,
     "start_time": "2025-02-21T02:15:49.896168",
     "status": "completed"
    },
    "tags": []
   },
   "source": [
    "Check the count of all categorical data before filling in most frequent to prevent imbalanced dataset. From count plot it is evident that data is almost evenly distributed so now I am trying the approach of filling missing as unknown first."
   ]
  },
  {
   "cell_type": "code",
   "execution_count": 21,
   "id": "e5c2943e",
   "metadata": {
    "execution": {
     "iopub.execute_input": "2025-02-21T02:15:49.944166Z",
     "iopub.status.busy": "2025-02-21T02:15:49.943812Z",
     "iopub.status.idle": "2025-02-21T02:15:50.524029Z",
     "shell.execute_reply": "2025-02-21T02:15:50.522755Z"
    },
    "papermill": {
     "duration": 0.598845,
     "end_time": "2025-02-21T02:15:50.526134",
     "exception": false,
     "start_time": "2025-02-21T02:15:49.927289",
     "status": "completed"
    },
    "tags": []
   },
   "outputs": [],
   "source": [
    "from sklearn.impute import SimpleImputer\n",
    "\n",
    "# Define the imputer with \"constant\" strategy, replacing missing values with \"Unknown\"\n",
    "imputer = SimpleImputer(strategy=\"constant\", fill_value=\"Unknown\")"
   ]
  },
  {
   "cell_type": "code",
   "execution_count": 22,
   "id": "732533cf",
   "metadata": {
    "execution": {
     "iopub.execute_input": "2025-02-21T02:15:50.557421Z",
     "iopub.status.busy": "2025-02-21T02:15:50.557047Z",
     "iopub.status.idle": "2025-02-21T02:15:56.193391Z",
     "shell.execute_reply": "2025-02-21T02:15:56.192174Z"
    },
    "papermill": {
     "duration": 5.654233,
     "end_time": "2025-02-21T02:15:56.195399",
     "exception": false,
     "start_time": "2025-02-21T02:15:50.541166",
     "status": "completed"
    },
    "tags": []
   },
   "outputs": [
    {
     "name": "stdout",
     "output_type": "stream",
     "text": [
      "id                      0\n",
      "Brand                   0\n",
      "Material                0\n",
      "Size                    0\n",
      "Compartments            0\n",
      "Laptop Compartment      0\n",
      "Waterproof              0\n",
      "Style                   0\n",
      "Color                   0\n",
      "Weight Capacity (kg)    0\n",
      "Price                   0\n",
      "dtype: int64\n"
     ]
    }
   ],
   "source": [
    "train_merge[categorical_features] = imputer.fit_transform(train_merge[categorical_features])\n",
    "\n",
    "# Check if missing values are handled\n",
    "print(train_merge.isnull().sum())"
   ]
  },
  {
   "cell_type": "code",
   "execution_count": 23,
   "id": "09338194",
   "metadata": {
    "execution": {
     "iopub.execute_input": "2025-02-21T02:15:56.228289Z",
     "iopub.status.busy": "2025-02-21T02:15:56.227908Z",
     "iopub.status.idle": "2025-02-21T02:15:56.376008Z",
     "shell.execute_reply": "2025-02-21T02:15:56.374882Z"
    },
    "papermill": {
     "duration": 0.166387,
     "end_time": "2025-02-21T02:15:56.377738",
     "exception": false,
     "start_time": "2025-02-21T02:15:56.211351",
     "status": "completed"
    },
    "tags": []
   },
   "outputs": [
    {
     "data": {
      "text/plain": [
       "id                      0\n",
       "Brand                   0\n",
       "Material                0\n",
       "Size                    0\n",
       "Compartments            0\n",
       "Laptop Compartment      0\n",
       "Waterproof              0\n",
       "Style                   0\n",
       "Color                   0\n",
       "Weight Capacity (kg)    0\n",
       "dtype: int64"
      ]
     },
     "execution_count": 23,
     "metadata": {},
     "output_type": "execute_result"
    }
   ],
   "source": [
    "# Data preprocessing on test dataset \n",
    "test['Weight Capacity (kg)']=test['Weight Capacity (kg)'].fillna(test['Weight Capacity (kg)'].median())\n",
    "test[categorical_features]=imputer.transform(test[categorical_features])\n",
    "test.isnull().sum()"
   ]
  },
  {
   "cell_type": "markdown",
   "id": "cd73ac21",
   "metadata": {
    "papermill": {
     "duration": 0.015616,
     "end_time": "2025-02-21T02:15:56.409328",
     "exception": false,
     "start_time": "2025-02-21T02:15:56.393712",
     "status": "completed"
    },
    "tags": []
   },
   "source": [
    "## Encoding the categorical features"
   ]
  },
  {
   "cell_type": "markdown",
   "id": "ade53b85",
   "metadata": {
    "papermill": {
     "duration": 0.015027,
     "end_time": "2025-02-21T02:15:56.440442",
     "exception": false,
     "start_time": "2025-02-21T02:15:56.425415",
     "status": "completed"
    },
    "tags": []
   },
   "source": [
    "Using mapping for Size column(can also use ordinal encoding). Then for columns with binary values i.e (Yes, No )I am using binary maping and for rest of categorical variables I am using Label encoder"
   ]
  },
  {
   "cell_type": "code",
   "execution_count": 24,
   "id": "c0198c0f",
   "metadata": {
    "execution": {
     "iopub.execute_input": "2025-02-21T02:15:56.472489Z",
     "iopub.status.busy": "2025-02-21T02:15:56.472124Z",
     "iopub.status.idle": "2025-02-21T02:15:58.558758Z",
     "shell.execute_reply": "2025-02-21T02:15:58.557497Z"
    },
    "papermill": {
     "duration": 2.104972,
     "end_time": "2025-02-21T02:15:58.560878",
     "exception": false,
     "start_time": "2025-02-21T02:15:56.455906",
     "status": "completed"
    },
    "tags": []
   },
   "outputs": [],
   "source": [
    "#mapping size category \n",
    "size_mapping={\n",
    "    'Unknown':0,\n",
    "    'Small': 1,\n",
    "    'Medium': 2,\n",
    "    'Large': 3\n",
    "}\n",
    "train_merge['Size']=train_merge['Size'].replace(size_mapping)\n",
    "test['Size']=test['Size'].replace(size_mapping)\n"
   ]
  },
  {
   "cell_type": "code",
   "execution_count": 25,
   "id": "355d251c",
   "metadata": {
    "execution": {
     "iopub.execute_input": "2025-02-21T02:15:58.652477Z",
     "iopub.status.busy": "2025-02-21T02:15:58.652117Z",
     "iopub.status.idle": "2025-02-21T02:15:59.136296Z",
     "shell.execute_reply": "2025-02-21T02:15:59.135158Z"
    },
    "papermill": {
     "duration": 0.502687,
     "end_time": "2025-02-21T02:15:59.138644",
     "exception": false,
     "start_time": "2025-02-21T02:15:58.635957",
     "status": "completed"
    },
    "tags": []
   },
   "outputs": [],
   "source": [
    "def encode_binary_with_unknown(column):\n",
    "    return column.map({\"Yes\": 1, \"No\": 0, \"Unknown\": 2}) \n",
    "\n",
    "train_merge[\"Laptop Compartment\"] = encode_binary_with_unknown(train_merge[\"Laptop Compartment\"])\n",
    "train_merge[\"Waterproof\"] = encode_binary_with_unknown(train_merge[\"Waterproof\"])\n",
    "test[\"Laptop Compartment\"] = encode_binary_with_unknown(test[\"Laptop Compartment\"])\n",
    "test[\"Waterproof\"] = encode_binary_with_unknown(test[\"Waterproof\"])"
   ]
  },
  {
   "cell_type": "code",
   "execution_count": 26,
   "id": "d514ee7c",
   "metadata": {
    "execution": {
     "iopub.execute_input": "2025-02-21T02:15:59.171230Z",
     "iopub.status.busy": "2025-02-21T02:15:59.170834Z",
     "iopub.status.idle": "2025-02-21T02:15:59.182106Z",
     "shell.execute_reply": "2025-02-21T02:15:59.180910Z"
    },
    "papermill": {
     "duration": 0.029595,
     "end_time": "2025-02-21T02:15:59.184041",
     "exception": false,
     "start_time": "2025-02-21T02:15:59.154446",
     "status": "completed"
    },
    "tags": []
   },
   "outputs": [
    {
     "name": "stdout",
     "output_type": "stream",
     "text": [
      "<class 'pandas.core.frame.DataFrame'>\n",
      "Index: 3994318 entries, 0 to 3694317\n",
      "Data columns (total 11 columns):\n",
      " #   Column                Dtype  \n",
      "---  ------                -----  \n",
      " 0   id                    int64  \n",
      " 1   Brand                 object \n",
      " 2   Material              object \n",
      " 3   Size                  int64  \n",
      " 4   Compartments          float64\n",
      " 5   Laptop Compartment    int64  \n",
      " 6   Waterproof            int64  \n",
      " 7   Style                 object \n",
      " 8   Color                 object \n",
      " 9   Weight Capacity (kg)  float64\n",
      " 10  Price                 float64\n",
      "dtypes: float64(3), int64(4), object(4)\n",
      "memory usage: 365.7+ MB\n"
     ]
    }
   ],
   "source": [
    "train_merge.info()"
   ]
  },
  {
   "cell_type": "code",
   "execution_count": 27,
   "id": "d8f6d9d0",
   "metadata": {
    "execution": {
     "iopub.execute_input": "2025-02-21T02:15:59.216273Z",
     "iopub.status.busy": "2025-02-21T02:15:59.215859Z",
     "iopub.status.idle": "2025-02-21T02:16:02.736471Z",
     "shell.execute_reply": "2025-02-21T02:16:02.735462Z"
    },
    "papermill": {
     "duration": 3.539009,
     "end_time": "2025-02-21T02:16:02.738457",
     "exception": false,
     "start_time": "2025-02-21T02:15:59.199448",
     "status": "completed"
    },
    "tags": []
   },
   "outputs": [],
   "source": [
    "from sklearn.preprocessing import LabelEncoder\n",
    "le=LabelEncoder()\n",
    "\n",
    "cat_cols=['Brand','Material','Style','Color']\n",
    "\n",
    "for feature in cat_cols:\n",
    "    train_merge[feature]=le.fit_transform(train_merge[feature])\n",
    "    test[feature]=le.transform(test[feature])"
   ]
  },
  {
   "cell_type": "markdown",
   "id": "30f163e7",
   "metadata": {
    "papermill": {
     "duration": 0.015354,
     "end_time": "2025-02-21T02:16:02.769693",
     "exception": false,
     "start_time": "2025-02-21T02:16:02.754339",
     "status": "completed"
    },
    "tags": []
   },
   "source": [
    "# Model training "
   ]
  },
  {
   "cell_type": "code",
   "execution_count": 28,
   "id": "31e0a5f5",
   "metadata": {
    "execution": {
     "iopub.execute_input": "2025-02-21T02:16:02.802598Z",
     "iopub.status.busy": "2025-02-21T02:16:02.802196Z",
     "iopub.status.idle": "2025-02-21T02:16:06.642303Z",
     "shell.execute_reply": "2025-02-21T02:16:06.641214Z"
    },
    "papermill": {
     "duration": 3.859541,
     "end_time": "2025-02-21T02:16:06.644749",
     "exception": false,
     "start_time": "2025-02-21T02:16:02.785208",
     "status": "completed"
    },
    "tags": []
   },
   "outputs": [],
   "source": [
    "from sklearn.model_selection import train_test_split, cross_val_score\n",
    "from catboost import CatBoostRegressor \n",
    "from sklearn.linear_model import LinearRegression\n",
    "from xgboost import XGBRegressor\n",
    "import lightgbm as lgb"
   ]
  },
  {
   "cell_type": "code",
   "execution_count": 29,
   "id": "42f71f75",
   "metadata": {
    "execution": {
     "iopub.execute_input": "2025-02-21T02:16:06.678128Z",
     "iopub.status.busy": "2025-02-21T02:16:06.677295Z",
     "iopub.status.idle": "2025-02-21T02:16:06.690150Z",
     "shell.execute_reply": "2025-02-21T02:16:06.688817Z"
    },
    "papermill": {
     "duration": 0.031859,
     "end_time": "2025-02-21T02:16:06.692198",
     "exception": false,
     "start_time": "2025-02-21T02:16:06.660339",
     "status": "completed"
    },
    "tags": []
   },
   "outputs": [],
   "source": [
    "test.drop(['id'],inplace=True,axis=1)"
   ]
  },
  {
   "cell_type": "code",
   "execution_count": 30,
   "id": "206e5e4f",
   "metadata": {
    "execution": {
     "iopub.execute_input": "2025-02-21T02:16:06.724671Z",
     "iopub.status.busy": "2025-02-21T02:16:06.724265Z",
     "iopub.status.idle": "2025-02-21T02:16:08.165366Z",
     "shell.execute_reply": "2025-02-21T02:16:08.164097Z"
    },
    "papermill": {
     "duration": 1.45951,
     "end_time": "2025-02-21T02:16:08.167389",
     "exception": false,
     "start_time": "2025-02-21T02:16:06.707879",
     "status": "completed"
    },
    "tags": []
   },
   "outputs": [],
   "source": [
    "y=train_merge['Price']\n",
    "train_merge.drop(['Price','id'], inplace=True, axis=1)\n",
    "X_train, X_test, y_train, y_test=train_test_split(train_merge,y,test_size=0.2,random_state=42)"
   ]
  },
  {
   "cell_type": "code",
   "execution_count": 31,
   "id": "56855e2c",
   "metadata": {
    "execution": {
     "iopub.execute_input": "2025-02-21T02:16:08.205431Z",
     "iopub.status.busy": "2025-02-21T02:16:08.205077Z",
     "iopub.status.idle": "2025-02-21T02:16:08.209839Z",
     "shell.execute_reply": "2025-02-21T02:16:08.208393Z"
    },
    "papermill": {
     "duration": 0.026608,
     "end_time": "2025-02-21T02:16:08.211523",
     "exception": false,
     "start_time": "2025-02-21T02:16:08.184915",
     "status": "completed"
    },
    "tags": []
   },
   "outputs": [],
   "source": [
    "from sklearn.metrics import mean_squared_error, r2_score"
   ]
  },
  {
   "cell_type": "code",
   "execution_count": 32,
   "id": "ddd5b6b3",
   "metadata": {
    "execution": {
     "iopub.execute_input": "2025-02-21T02:16:08.245704Z",
     "iopub.status.busy": "2025-02-21T02:16:08.245272Z",
     "iopub.status.idle": "2025-02-21T02:16:10.157371Z",
     "shell.execute_reply": "2025-02-21T02:16:10.155985Z"
    },
    "papermill": {
     "duration": 1.932841,
     "end_time": "2025-02-21T02:16:10.160075",
     "exception": false,
     "start_time": "2025-02-21T02:16:08.227234",
     "status": "completed"
    },
    "tags": []
   },
   "outputs": [
    {
     "name": "stdout",
     "output_type": "stream",
     "text": [
      "Linear Regression MSE: 1513.7587228225796\n",
      "RMSE 38.90705235330196\n"
     ]
    }
   ],
   "source": [
    "from sklearn.linear_model import LinearRegression\n",
    "\n",
    "# Initialize and train the model\n",
    "model_lr = LinearRegression()\n",
    "model_lr.fit(X_train, y_train)\n",
    "\n",
    "# Predict and evaluate\n",
    "y_pred_lr = model_lr.predict(X_test)\n",
    "mse_lr = mean_squared_error(y_test, y_pred_lr)\n",
    "print(f\"Linear Regression MSE: {mse_lr}\")\n",
    "rmse = mse_lr ** 0.5\n",
    "print(\"RMSE\",rmse)"
   ]
  },
  {
   "cell_type": "code",
   "execution_count": 33,
   "id": "7c5b8b03",
   "metadata": {
    "execution": {
     "iopub.execute_input": "2025-02-21T02:16:10.194897Z",
     "iopub.status.busy": "2025-02-21T02:16:10.194434Z",
     "iopub.status.idle": "2025-02-21T02:19:54.222230Z",
     "shell.execute_reply": "2025-02-21T02:19:54.220929Z"
    },
    "papermill": {
     "duration": 224.062118,
     "end_time": "2025-02-21T02:19:54.239216",
     "exception": false,
     "start_time": "2025-02-21T02:16:10.177098",
     "status": "completed"
    },
    "tags": []
   },
   "outputs": [
    {
     "name": "stdout",
     "output_type": "stream",
     "text": [
      "Fitting 3 folds for each of 10 candidates, totalling 30 fits\n"
     ]
    },
    {
     "data": {
      "text/html": [
       "<style>#sk-container-id-1 {color: black;background-color: white;}#sk-container-id-1 pre{padding: 0;}#sk-container-id-1 div.sk-toggleable {background-color: white;}#sk-container-id-1 label.sk-toggleable__label {cursor: pointer;display: block;width: 100%;margin-bottom: 0;padding: 0.3em;box-sizing: border-box;text-align: center;}#sk-container-id-1 label.sk-toggleable__label-arrow:before {content: \"▸\";float: left;margin-right: 0.25em;color: #696969;}#sk-container-id-1 label.sk-toggleable__label-arrow:hover:before {color: black;}#sk-container-id-1 div.sk-estimator:hover label.sk-toggleable__label-arrow:before {color: black;}#sk-container-id-1 div.sk-toggleable__content {max-height: 0;max-width: 0;overflow: hidden;text-align: left;background-color: #f0f8ff;}#sk-container-id-1 div.sk-toggleable__content pre {margin: 0.2em;color: black;border-radius: 0.25em;background-color: #f0f8ff;}#sk-container-id-1 input.sk-toggleable__control:checked~div.sk-toggleable__content {max-height: 200px;max-width: 100%;overflow: auto;}#sk-container-id-1 input.sk-toggleable__control:checked~label.sk-toggleable__label-arrow:before {content: \"▾\";}#sk-container-id-1 div.sk-estimator input.sk-toggleable__control:checked~label.sk-toggleable__label {background-color: #d4ebff;}#sk-container-id-1 div.sk-label input.sk-toggleable__control:checked~label.sk-toggleable__label {background-color: #d4ebff;}#sk-container-id-1 input.sk-hidden--visually {border: 0;clip: rect(1px 1px 1px 1px);clip: rect(1px, 1px, 1px, 1px);height: 1px;margin: -1px;overflow: hidden;padding: 0;position: absolute;width: 1px;}#sk-container-id-1 div.sk-estimator {font-family: monospace;background-color: #f0f8ff;border: 1px dotted black;border-radius: 0.25em;box-sizing: border-box;margin-bottom: 0.5em;}#sk-container-id-1 div.sk-estimator:hover {background-color: #d4ebff;}#sk-container-id-1 div.sk-parallel-item::after {content: \"\";width: 100%;border-bottom: 1px solid gray;flex-grow: 1;}#sk-container-id-1 div.sk-label:hover label.sk-toggleable__label {background-color: #d4ebff;}#sk-container-id-1 div.sk-serial::before {content: \"\";position: absolute;border-left: 1px solid gray;box-sizing: border-box;top: 0;bottom: 0;left: 50%;z-index: 0;}#sk-container-id-1 div.sk-serial {display: flex;flex-direction: column;align-items: center;background-color: white;padding-right: 0.2em;padding-left: 0.2em;position: relative;}#sk-container-id-1 div.sk-item {position: relative;z-index: 1;}#sk-container-id-1 div.sk-parallel {display: flex;align-items: stretch;justify-content: center;background-color: white;position: relative;}#sk-container-id-1 div.sk-item::before, #sk-container-id-1 div.sk-parallel-item::before {content: \"\";position: absolute;border-left: 1px solid gray;box-sizing: border-box;top: 0;bottom: 0;left: 50%;z-index: -1;}#sk-container-id-1 div.sk-parallel-item {display: flex;flex-direction: column;z-index: 1;position: relative;background-color: white;}#sk-container-id-1 div.sk-parallel-item:first-child::after {align-self: flex-end;width: 50%;}#sk-container-id-1 div.sk-parallel-item:last-child::after {align-self: flex-start;width: 50%;}#sk-container-id-1 div.sk-parallel-item:only-child::after {width: 0;}#sk-container-id-1 div.sk-dashed-wrapped {border: 1px dashed gray;margin: 0 0.4em 0.5em 0.4em;box-sizing: border-box;padding-bottom: 0.4em;background-color: white;}#sk-container-id-1 div.sk-label label {font-family: monospace;font-weight: bold;display: inline-block;line-height: 1.2em;}#sk-container-id-1 div.sk-label-container {text-align: center;}#sk-container-id-1 div.sk-container {/* jupyter's `normalize.less` sets `[hidden] { display: none; }` but bootstrap.min.css set `[hidden] { display: none !important; }` so we also need the `!important` here to be able to override the default hidden behavior on the sphinx rendered scikit-learn.org. See: https://github.com/scikit-learn/scikit-learn/issues/21755 */display: inline-block !important;position: relative;}#sk-container-id-1 div.sk-text-repr-fallback {display: none;}</style><div id=\"sk-container-id-1\" class=\"sk-top-container\"><div class=\"sk-text-repr-fallback\"><pre>RandomizedSearchCV(cv=3,\n",
       "                   estimator=XGBRegressor(base_score=None, booster=None,\n",
       "                                          callbacks=None,\n",
       "                                          colsample_bylevel=None,\n",
       "                                          colsample_bynode=None,\n",
       "                                          colsample_bytree=None, device=None,\n",
       "                                          early_stopping_rounds=None,\n",
       "                                          enable_categorical=False,\n",
       "                                          eval_metric=None, feature_types=None,\n",
       "                                          gamma=None, grow_policy=None,\n",
       "                                          importance_type=None,\n",
       "                                          interaction_constraints=None,\n",
       "                                          learning_rate=...\n",
       "                                          min_child_weight=None, missing=nan,\n",
       "                                          monotone_constraints=None,\n",
       "                                          multi_strategy=None,\n",
       "                                          n_estimators=None, n_jobs=-1,\n",
       "                                          num_parallel_tree=None,\n",
       "                                          random_state=None, ...),\n",
       "                   n_jobs=-1,\n",
       "                   param_distributions={&#x27;learning_rate&#x27;: [0.01, 0.1, 0.2],\n",
       "                                        &#x27;max_depth&#x27;: [3, 5, 7],\n",
       "                                        &#x27;n_estimators&#x27;: [50, 100, 200],\n",
       "                                        &#x27;subsample&#x27;: [0.6, 0.8, 1.0]},\n",
       "                   random_state=42, scoring=&#x27;neg_root_mean_squared_error&#x27;,\n",
       "                   verbose=1)</pre><b>In a Jupyter environment, please rerun this cell to show the HTML representation or trust the notebook. <br />On GitHub, the HTML representation is unable to render, please try loading this page with nbviewer.org.</b></div><div class=\"sk-container\" hidden><div class=\"sk-item sk-dashed-wrapped\"><div class=\"sk-label-container\"><div class=\"sk-label sk-toggleable\"><input class=\"sk-toggleable__control sk-hidden--visually\" id=\"sk-estimator-id-1\" type=\"checkbox\" ><label for=\"sk-estimator-id-1\" class=\"sk-toggleable__label sk-toggleable__label-arrow\">RandomizedSearchCV</label><div class=\"sk-toggleable__content\"><pre>RandomizedSearchCV(cv=3,\n",
       "                   estimator=XGBRegressor(base_score=None, booster=None,\n",
       "                                          callbacks=None,\n",
       "                                          colsample_bylevel=None,\n",
       "                                          colsample_bynode=None,\n",
       "                                          colsample_bytree=None, device=None,\n",
       "                                          early_stopping_rounds=None,\n",
       "                                          enable_categorical=False,\n",
       "                                          eval_metric=None, feature_types=None,\n",
       "                                          gamma=None, grow_policy=None,\n",
       "                                          importance_type=None,\n",
       "                                          interaction_constraints=None,\n",
       "                                          learning_rate=...\n",
       "                                          min_child_weight=None, missing=nan,\n",
       "                                          monotone_constraints=None,\n",
       "                                          multi_strategy=None,\n",
       "                                          n_estimators=None, n_jobs=-1,\n",
       "                                          num_parallel_tree=None,\n",
       "                                          random_state=None, ...),\n",
       "                   n_jobs=-1,\n",
       "                   param_distributions={&#x27;learning_rate&#x27;: [0.01, 0.1, 0.2],\n",
       "                                        &#x27;max_depth&#x27;: [3, 5, 7],\n",
       "                                        &#x27;n_estimators&#x27;: [50, 100, 200],\n",
       "                                        &#x27;subsample&#x27;: [0.6, 0.8, 1.0]},\n",
       "                   random_state=42, scoring=&#x27;neg_root_mean_squared_error&#x27;,\n",
       "                   verbose=1)</pre></div></div></div><div class=\"sk-parallel\"><div class=\"sk-parallel-item\"><div class=\"sk-item\"><div class=\"sk-label-container\"><div class=\"sk-label sk-toggleable\"><input class=\"sk-toggleable__control sk-hidden--visually\" id=\"sk-estimator-id-2\" type=\"checkbox\" ><label for=\"sk-estimator-id-2\" class=\"sk-toggleable__label sk-toggleable__label-arrow\">estimator: XGBRegressor</label><div class=\"sk-toggleable__content\"><pre>XGBRegressor(base_score=None, booster=None, callbacks=None,\n",
       "             colsample_bylevel=None, colsample_bynode=None,\n",
       "             colsample_bytree=None, device=None, early_stopping_rounds=None,\n",
       "             enable_categorical=False, eval_metric=None, feature_types=None,\n",
       "             gamma=None, grow_policy=None, importance_type=None,\n",
       "             interaction_constraints=None, learning_rate=None, max_bin=None,\n",
       "             max_cat_threshold=None, max_cat_to_onehot=None,\n",
       "             max_delta_step=None, max_depth=None, max_leaves=None,\n",
       "             min_child_weight=None, missing=nan, monotone_constraints=None,\n",
       "             multi_strategy=None, n_estimators=None, n_jobs=-1,\n",
       "             num_parallel_tree=None, random_state=None, ...)</pre></div></div></div><div class=\"sk-serial\"><div class=\"sk-item\"><div class=\"sk-estimator sk-toggleable\"><input class=\"sk-toggleable__control sk-hidden--visually\" id=\"sk-estimator-id-3\" type=\"checkbox\" ><label for=\"sk-estimator-id-3\" class=\"sk-toggleable__label sk-toggleable__label-arrow\">XGBRegressor</label><div class=\"sk-toggleable__content\"><pre>XGBRegressor(base_score=None, booster=None, callbacks=None,\n",
       "             colsample_bylevel=None, colsample_bynode=None,\n",
       "             colsample_bytree=None, device=None, early_stopping_rounds=None,\n",
       "             enable_categorical=False, eval_metric=None, feature_types=None,\n",
       "             gamma=None, grow_policy=None, importance_type=None,\n",
       "             interaction_constraints=None, learning_rate=None, max_bin=None,\n",
       "             max_cat_threshold=None, max_cat_to_onehot=None,\n",
       "             max_delta_step=None, max_depth=None, max_leaves=None,\n",
       "             min_child_weight=None, missing=nan, monotone_constraints=None,\n",
       "             multi_strategy=None, n_estimators=None, n_jobs=-1,\n",
       "             num_parallel_tree=None, random_state=None, ...)</pre></div></div></div></div></div></div></div></div></div></div>"
      ],
      "text/plain": [
       "RandomizedSearchCV(cv=3,\n",
       "                   estimator=XGBRegressor(base_score=None, booster=None,\n",
       "                                          callbacks=None,\n",
       "                                          colsample_bylevel=None,\n",
       "                                          colsample_bynode=None,\n",
       "                                          colsample_bytree=None, device=None,\n",
       "                                          early_stopping_rounds=None,\n",
       "                                          enable_categorical=False,\n",
       "                                          eval_metric=None, feature_types=None,\n",
       "                                          gamma=None, grow_policy=None,\n",
       "                                          importance_type=None,\n",
       "                                          interaction_constraints=None,\n",
       "                                          learning_rate=...\n",
       "                                          min_child_weight=None, missing=nan,\n",
       "                                          monotone_constraints=None,\n",
       "                                          multi_strategy=None,\n",
       "                                          n_estimators=None, n_jobs=-1,\n",
       "                                          num_parallel_tree=None,\n",
       "                                          random_state=None, ...),\n",
       "                   n_jobs=-1,\n",
       "                   param_distributions={'learning_rate': [0.01, 0.1, 0.2],\n",
       "                                        'max_depth': [3, 5, 7],\n",
       "                                        'n_estimators': [50, 100, 200],\n",
       "                                        'subsample': [0.6, 0.8, 1.0]},\n",
       "                   random_state=42, scoring='neg_root_mean_squared_error',\n",
       "                   verbose=1)"
      ]
     },
     "execution_count": 33,
     "metadata": {},
     "output_type": "execute_result"
    }
   ],
   "source": [
    "from sklearn.model_selection import RandomizedSearchCV\n",
    "from xgboost import XGBRegressor\n",
    "\n",
    "# Define the model\n",
    "xgb = XGBRegressor(n_jobs=-1)  # Use all available CPU cores\n",
    "\n",
    "# Define smaller parameter space\n",
    "param_dist = {\n",
    "    'n_estimators': [50, 100, 200],  # Reduce large values\n",
    "    'max_depth': [3, 5, 7],  # Smaller trees for faster training\n",
    "    'learning_rate': [0.01, 0.1, 0.2],  \n",
    "    'subsample': [0.6, 0.8, 1.0]\n",
    "}\n",
    "\n",
    "# Random search instead of exhaustive grid search\n",
    "random_search = RandomizedSearchCV(\n",
    "    xgb, param_dist, \n",
    "    scoring='neg_root_mean_squared_error', \n",
    "    cv=3, \n",
    "    n_iter=10,  # Test only 10 combinations instead of all\n",
    "    verbose=1,\n",
    "    random_state=42,\n",
    "    n_jobs=-1  # Parallel processing\n",
    ")\n",
    "\n",
    "# Fit the model\n",
    "random_search.fit(X_train, y_train)\n"
   ]
  },
  {
   "cell_type": "code",
   "execution_count": 34,
   "id": "7b29df82",
   "metadata": {
    "execution": {
     "iopub.execute_input": "2025-02-21T02:19:54.273764Z",
     "iopub.status.busy": "2025-02-21T02:19:54.273368Z",
     "iopub.status.idle": "2025-02-21T02:19:54.279283Z",
     "shell.execute_reply": "2025-02-21T02:19:54.277883Z"
    },
    "papermill": {
     "duration": 0.025578,
     "end_time": "2025-02-21T02:19:54.281131",
     "exception": false,
     "start_time": "2025-02-21T02:19:54.255553",
     "status": "completed"
    },
    "tags": []
   },
   "outputs": [
    {
     "name": "stdout",
     "output_type": "stream",
     "text": [
      "Best Parameters: {'subsample': 0.8, 'n_estimators': 200, 'max_depth': 5, 'learning_rate': 0.2}\n"
     ]
    }
   ],
   "source": [
    "print(\"Best Parameters:\", random_search.best_params_)"
   ]
  },
  {
   "cell_type": "code",
   "execution_count": 35,
   "id": "548ec953",
   "metadata": {
    "execution": {
     "iopub.execute_input": "2025-02-21T02:19:54.315330Z",
     "iopub.status.busy": "2025-02-21T02:19:54.314918Z",
     "iopub.status.idle": "2025-02-21T02:20:09.641248Z",
     "shell.execute_reply": "2025-02-21T02:20:09.640136Z"
    },
    "papermill": {
     "duration": 15.346166,
     "end_time": "2025-02-21T02:20:09.643843",
     "exception": false,
     "start_time": "2025-02-21T02:19:54.297677",
     "status": "completed"
    },
    "tags": []
   },
   "outputs": [],
   "source": [
    "model_xgb = XGBRegressor(n_estimators=100, learning_rate=0.1, max_depth=6, random_state=42)\n",
    "#n_estimators=200, learning_rate=0.2, max_depth=5, random_state=42,subsample=0.8\n",
    "\n",
    "# Fit the model\n",
    "model_xgb.fit(X_train, y_train)\n",
    "\n",
    "# Predict on the test set\n",
    "y_pred_xgb = model_xgb.predict(X_test)\n"
   ]
  },
  {
   "cell_type": "code",
   "execution_count": 36,
   "id": "8570fa6a",
   "metadata": {
    "execution": {
     "iopub.execute_input": "2025-02-21T02:20:09.681386Z",
     "iopub.status.busy": "2025-02-21T02:20:09.681022Z",
     "iopub.status.idle": "2025-02-21T02:20:09.890549Z",
     "shell.execute_reply": "2025-02-21T02:20:09.889532Z"
    },
    "papermill": {
     "duration": 0.229169,
     "end_time": "2025-02-21T02:20:09.892901",
     "exception": false,
     "start_time": "2025-02-21T02:20:09.663732",
     "status": "completed"
    },
    "tags": []
   },
   "outputs": [],
   "source": [
    "y_pred=model_xgb.predict(test)"
   ]
  },
  {
   "cell_type": "code",
   "execution_count": 37,
   "id": "c7586607",
   "metadata": {
    "execution": {
     "iopub.execute_input": "2025-02-21T02:20:09.929289Z",
     "iopub.status.busy": "2025-02-21T02:20:09.928928Z",
     "iopub.status.idle": "2025-02-21T02:20:09.934385Z",
     "shell.execute_reply": "2025-02-21T02:20:09.933162Z"
    },
    "papermill": {
     "duration": 0.024328,
     "end_time": "2025-02-21T02:20:09.936370",
     "exception": false,
     "start_time": "2025-02-21T02:20:09.912042",
     "status": "completed"
    },
    "tags": []
   },
   "outputs": [],
   "source": [
    "submissions['Price']=y_pred"
   ]
  },
  {
   "cell_type": "code",
   "execution_count": 38,
   "id": "ebc74c23",
   "metadata": {
    "execution": {
     "iopub.execute_input": "2025-02-21T02:20:09.969108Z",
     "iopub.status.busy": "2025-02-21T02:20:09.968714Z",
     "iopub.status.idle": "2025-02-21T02:20:10.261177Z",
     "shell.execute_reply": "2025-02-21T02:20:10.259738Z"
    },
    "papermill": {
     "duration": 0.310904,
     "end_time": "2025-02-21T02:20:10.263005",
     "exception": false,
     "start_time": "2025-02-21T02:20:09.952101",
     "status": "completed"
    },
    "tags": []
   },
   "outputs": [
    {
     "name": "stdout",
     "output_type": "stream",
     "text": [
      "✅ Submission file saved successfully!\n"
     ]
    }
   ],
   "source": [
    "submissions.to_csv('submission.csv', index=False)\n",
    "print(\"✅ Submission file saved successfully!\")"
   ]
  }
 ],
 "metadata": {
  "kaggle": {
   "accelerator": "none",
   "dataSources": [
    {
     "databundleVersionId": 10995111,
     "sourceId": 90274,
     "sourceType": "competition"
    }
   ],
   "dockerImageVersionId": 30886,
   "isGpuEnabled": false,
   "isInternetEnabled": true,
   "language": "python",
   "sourceType": "notebook"
  },
  "kernelspec": {
   "display_name": "Python 3",
   "language": "python",
   "name": "python3"
  },
  "language_info": {
   "codemirror_mode": {
    "name": "ipython",
    "version": 3
   },
   "file_extension": ".py",
   "mimetype": "text/x-python",
   "name": "python",
   "nbconvert_exporter": "python",
   "pygments_lexer": "ipython3",
   "version": "3.10.12"
  },
  "papermill": {
   "default_parameters": {},
   "duration": 315.478911,
   "end_time": "2025-02-21T02:20:11.904859",
   "environment_variables": {},
   "exception": null,
   "input_path": "__notebook__.ipynb",
   "output_path": "__notebook__.ipynb",
   "parameters": {},
   "start_time": "2025-02-21T02:14:56.425948",
   "version": "2.6.0"
  }
 },
 "nbformat": 4,
 "nbformat_minor": 5
}
